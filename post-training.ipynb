{
 "cells": [
  {
   "cell_type": "code",
   "execution_count": 1,
   "id": "75cf7fba",
   "metadata": {},
   "outputs": [
    {
     "name": "stdout",
     "output_type": "stream",
     "text": [
      "✅ Baseline model loaded\n"
     ]
    }
   ],
   "source": [
    "import numpy as np\n",
    "import tensorflow as tf\n",
    "import tensorflow_model_optimization as tfmot\n",
    "from tensorflow.keras.models import load_model\n",
    "from tensorflow.keras.datasets import fashion_mnist\n",
    "from tensorflow.keras.utils import to_categorical\n",
    "\n",
    "# 1. Load Fashion MNIST dataset\n",
    "(X_train, y_train), (X_test, y_test) = fashion_mnist.load_data()\n",
    "\n",
    "# Normalize and reshape to (batch, height, width, channels)\n",
    "X_train = X_train.astype('float32') / 255.0\n",
    "X_test = X_test.astype('float32') / 255.0\n",
    "X_train = np.expand_dims(X_train, axis=-1)  # shape: (60000, 28, 28, 1)\n",
    "X_test = np.expand_dims(X_test, axis=-1)\n",
    "\n",
    "# One-hot encode labels\n",
    "y_train = to_categorical(y_train, num_classes=10)\n",
    "y_test = to_categorical(y_test, num_classes=10)\n",
    "\n",
    "# 2. Load baseline model\n",
    "baseline_model = load_model('baseline_model2.h5')\n",
    "print(\"✅ Baseline model loaded\")"
   ]
  },
  {
   "cell_type": "code",
   "execution_count": 3,
   "id": "901d8bb9",
   "metadata": {},
   "outputs": [
    {
     "name": "stdout",
     "output_type": "stream",
     "text": [
      "INFO:tensorflow:Assets written to: /var/folders/bs/x0lj933d1hv0py0d4w2ypdp40000gn/T/tmpdtjr47su/assets\n"
     ]
    },
    {
     "name": "stderr",
     "output_type": "stream",
     "text": [
      "INFO:tensorflow:Assets written to: /var/folders/bs/x0lj933d1hv0py0d4w2ypdp40000gn/T/tmpdtjr47su/assets\n",
      "2025-06-05 21:04:24.461823: W tensorflow/compiler/mlir/lite/python/tf_tfl_flatbuffer_helpers.cc:364] Ignored output_format.\n",
      "2025-06-05 21:04:24.461971: W tensorflow/compiler/mlir/lite/python/tf_tfl_flatbuffer_helpers.cc:367] Ignored drop_control_dependency.\n",
      "2025-06-05 21:04:24.463768: I tensorflow/cc/saved_model/reader.cc:45] Reading SavedModel from: /var/folders/bs/x0lj933d1hv0py0d4w2ypdp40000gn/T/tmpdtjr47su\n",
      "2025-06-05 21:04:24.464975: I tensorflow/cc/saved_model/reader.cc:91] Reading meta graph with tags { serve }\n",
      "2025-06-05 21:04:24.464984: I tensorflow/cc/saved_model/reader.cc:132] Reading SavedModel debug info (if present) from: /var/folders/bs/x0lj933d1hv0py0d4w2ypdp40000gn/T/tmpdtjr47su\n",
      "2025-06-05 21:04:24.468191: I tensorflow/compiler/mlir/mlir_graph_optimization_pass.cc:375] MLIR V1 optimization pass is not enabled\n",
      "2025-06-05 21:04:24.470058: I tensorflow/cc/saved_model/loader.cc:231] Restoring SavedModel bundle.\n",
      "2025-06-05 21:04:24.555861: I tensorflow/cc/saved_model/loader.cc:215] Running initialization op on SavedModel bundle at path: /var/folders/bs/x0lj933d1hv0py0d4w2ypdp40000gn/T/tmpdtjr47su\n",
      "2025-06-05 21:04:24.570561: I tensorflow/cc/saved_model/loader.cc:314] SavedModel load for tags { serve }; Status: success: OK. Took 106797 microseconds.\n",
      "2025-06-05 21:04:24.598933: I tensorflow/compiler/mlir/tensorflow/utils/dump_mlir_util.cc:255] disabling MLIR crash reproducer, set env var `MLIR_CRASH_REPRODUCER_DIRECTORY` to enable.\n"
     ]
    }
   ],
   "source": [
    "converter = tf.lite.TFLiteConverter.from_keras_model(baseline_model)\n",
    "converter.optimizations = [tf.lite.Optimize.DEFAULT]\n",
    "tflite_model_ptq = converter.convert()"
   ]
  },
  {
   "cell_type": "code",
   "execution_count": 7,
   "id": "71433224",
   "metadata": {},
   "outputs": [
    {
     "data": {
      "text/plain": [
       "188672"
      ]
     },
     "execution_count": 7,
     "metadata": {},
     "output_type": "execute_result"
    }
   ],
   "source": [
    "from pathlib import Path\n",
    "import pathlib\n",
    "# 3. Save the quantized TFLite model\n",
    "\n",
    "tflite_models_dir = pathlib.Path('/Users/oscarpatrikminj/Documents/IITR/FMNIST/tflite_models')\n",
    "tflite_models_dir.mkdir(exist_ok=True, parents=True)\n",
    "tflite_model_file = tflite_models_dir/'model_ptq.tflite'\n",
    "tflite_model_file.write_bytes(tflite_model_ptq)"
   ]
  },
  {
   "cell_type": "code",
   "execution_count": 10,
   "id": "a138041a",
   "metadata": {},
   "outputs": [
    {
     "name": "stdout",
     "output_type": "stream",
     "text": [
      "Accuracy: 0.9141\n",
      "📦 Model size (uncompressed): 184.25 KB\n"
     ]
    }
   ],
   "source": [
    "import os\n",
    "# Load the quantized TFLite model\n",
    "tflite_model_file = 'tflite_models/model_ptq.tflite'\n",
    "interpreter = tf.lite.Interpreter(model_path=tflite_model_file)\n",
    "interpreter.allocate_tensors()\n",
    "\n",
    "input_index = interpreter.get_input_details()[0]['index']\n",
    "output_index = interpreter.get_output_details()[0]['index']\n",
    "\n",
    "pred_list = []\n",
    "\n",
    "for image in X_test:\n",
    "    input_data = np.array(image, dtype=np.float32)\n",
    "    input_data = input_data.reshape(1, input_data.shape[0], input_data.shape[1], 1)\n",
    "    interpreter.set_tensor(input_index, input_data)\n",
    "    interpreter.invoke()\n",
    "    prediction = interpreter.get_tensor(output_index)\n",
    "    prediction = np.argmax(prediction)\n",
    "    pred_list.append(prediction)\n",
    "\n",
    "accurate_count = 0\n",
    "for idx in range(len(pred_list)):\n",
    "    if pred_list[idx] == np.argmax(y_test[idx]):\n",
    "        accurate_count += 1\n",
    "\n",
    "accuracy = accurate_count / len(pred_list)\n",
    "print('Accuracy:', accuracy)\n",
    "\n",
    "# ---------- Model Size (Unzipped, in KB) ----------\n",
    "size_kb = os.path.getsize(tflite_model_file) / 1024\n",
    "print(f\"📦 Model size (uncompressed): {size_kb:.2f} KB\")\n",
    "\n",
    "\n",
    "\n"
   ]
  }
 ],
 "metadata": {
  "kernelspec": {
   "display_name": "venv",
   "language": "python",
   "name": "python3"
  },
  "language_info": {
   "codemirror_mode": {
    "name": "ipython",
    "version": 3
   },
   "file_extension": ".py",
   "mimetype": "text/x-python",
   "name": "python",
   "nbconvert_exporter": "python",
   "pygments_lexer": "ipython3",
   "version": "3.10.13"
  }
 },
 "nbformat": 4,
 "nbformat_minor": 5
}
