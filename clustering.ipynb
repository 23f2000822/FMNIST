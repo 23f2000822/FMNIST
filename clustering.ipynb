{
 "cells": [
  {
   "cell_type": "code",
   "execution_count": 1,
   "id": "d11de95b",
   "metadata": {},
   "outputs": [
    {
     "name": "stdout",
     "output_type": "stream",
     "text": [
      "✅ Baseline model loaded\n"
     ]
    },
    {
     "name": "stderr",
     "output_type": "stream",
     "text": [
      "WARNING:absl:At this time, the v2.11+ optimizer `tf.keras.optimizers.Adam` runs slowly on M1/M2 Macs, please use the legacy Keras optimizer instead, located at `tf.keras.optimizers.legacy.Adam`.\n",
      "WARNING:absl:There is a known slowdown when using v2.11+ Keras optimizers on M1/M2 Macs. Falling back to the legacy Keras optimizer, i.e., `tf.keras.optimizers.legacy.Adam`.\n"
     ]
    },
    {
     "name": "stdout",
     "output_type": "stream",
     "text": [
      "✅ Weight clustering applied\n",
      "✅ Clustered model compiled and ready for training\n"
     ]
    }
   ],
   "source": [
    "import numpy as np\n",
    "import tensorflow as tf\n",
    "import tensorflow_model_optimization as tfmot\n",
    "from tensorflow.keras.models import load_model\n",
    "from tensorflow.keras.datasets import fashion_mnist\n",
    "from tensorflow.keras.utils import to_categorical\n",
    "\n",
    "# 1. Load Fashion MNIST dataset\n",
    "(X_train, y_train), (X_test, y_test) = fashion_mnist.load_data()\n",
    "\n",
    "# Normalize and reshape to (batch, height, width, channels)\n",
    "X_train = X_train.astype('float32') / 255.0\n",
    "X_test = X_test.astype('float32') / 255.0\n",
    "X_train = np.expand_dims(X_train, axis=-1)  # shape: (60000, 28, 28, 1)\n",
    "X_test = np.expand_dims(X_test, axis=-1)\n",
    "\n",
    "# One-hot encode labels\n",
    "y_train = to_categorical(y_train, num_classes=10)\n",
    "y_test = to_categorical(y_test, num_classes=10)\n",
    "\n",
    "# 2. Load baseline model\n",
    "baseline_model = load_model('baseline_model2.h5')\n",
    "print(\"✅ Baseline model loaded\")\n",
    "\n",
    "# 3. Apply weight clustering\n",
    "cluster_weights = tfmot.clustering.keras.cluster_weights\n",
    "CentroidInitialization = tfmot.clustering.keras.CentroidInitialization\n",
    "\n",
    "clustering_params = {\n",
    "    'number_of_clusters': 16,\n",
    "    'cluster_centroids_init': CentroidInitialization.KMEANS_PLUS_PLUS\n",
    "}\n",
    "\n",
    "clustered_model = cluster_weights(baseline_model, **clustering_params)\n",
    "print(\"✅ Weight clustering applied\")\n",
    "\n",
    "# 4. Compile clustered model\n",
    "opt = tf.keras.optimizers.Adam(learning_rate=1e-5)\n",
    "clustered_model.compile(\n",
    "    loss=tf.keras.losses.CategoricalCrossentropy(from_logits=True),\n",
    "    optimizer=opt,\n",
    "    metrics=['accuracy']\n",
    ")\n",
    "print(\"✅ Clustered model compiled and ready for training\")\n",
    "\n",
    "# Optional: train clustered model (example)\n",
    "# epochs = 5\n",
    "# clustered_model.fit(X_train, y_train, batch_size=128, epochs=epochs, validation_split=0.1)\n"
   ]
  },
  {
   "cell_type": "code",
   "execution_count": 2,
   "id": "65a512c2",
   "metadata": {},
   "outputs": [
    {
     "name": "stdout",
     "output_type": "stream",
     "text": [
      "Model: \"sequential\"\n",
      "_________________________________________________________________\n",
      " Layer (type)                Output Shape              Param #   \n",
      "=================================================================\n",
      " cluster_conv2d (ClusterWei  (None, 26, 26, 32)        624       \n",
      " ghts)                                                           \n",
      "                                                                 \n",
      " cluster_max_pooling2d (Clu  (None, 13, 13, 32)        0         \n",
      " sterWeights)                                                    \n",
      "                                                                 \n",
      " cluster_conv2d_1 (ClusterW  (None, 11, 11, 64)        36944     \n",
      " eights)                                                         \n",
      "                                                                 \n",
      " cluster_max_pooling2d_1 (C  (None, 5, 5, 64)          0         \n",
      " lusterWeights)                                                  \n",
      "                                                                 \n",
      " cluster_flatten (ClusterWe  (None, 1600)              0         \n",
      " ights)                                                          \n",
      "                                                                 \n",
      " cluster_dropout (ClusterWe  (None, 1600)              0         \n",
      " ights)                                                          \n",
      "                                                                 \n",
      " cluster_dense (ClusterWeig  (None, 100)               320116    \n",
      " hts)                                                            \n",
      "                                                                 \n",
      " cluster_dense_1 (ClusterWe  (None, 10)                2026      \n",
      " ights)                                                          \n",
      "                                                                 \n",
      "=================================================================\n",
      "Total params: 359710 (2.06 MB)\n",
      "Trainable params: 179990 (703.09 KB)\n",
      "Non-trainable params: 179720 (1.37 MB)\n",
      "_________________________________________________________________\n",
      "None\n"
     ]
    }
   ],
   "source": [
    "print(clustered_model.summary())"
   ]
  },
  {
   "cell_type": "code",
   "execution_count": 3,
   "id": "465ab9f6",
   "metadata": {},
   "outputs": [
    {
     "name": "stdout",
     "output_type": "stream",
     "text": [
      "Epoch 1/2\n"
     ]
    },
    {
     "name": "stderr",
     "output_type": "stream",
     "text": [
      "/Users/oscarpatrikminj/Documents/IITR/FMNIST/venv/lib/python3.10/site-packages/keras/src/backend.py:5562: UserWarning: \"`categorical_crossentropy` received `from_logits=True`, but the `output` argument was produced by a Softmax activation and thus does not represent logits. Was this intended?\n",
      "  output, from_logits = _get_logits(\n"
     ]
    },
    {
     "name": "stdout",
     "output_type": "stream",
     "text": [
      "422/422 [==============================] - 19s 44ms/step - loss: 0.1385 - accuracy: 0.9515 - val_loss: 0.2217 - val_accuracy: 0.9187\n",
      "Epoch 2/2\n",
      "422/422 [==============================] - 17s 40ms/step - loss: 0.1289 - accuracy: 0.9543 - val_loss: 0.2181 - val_accuracy: 0.9213\n"
     ]
    },
    {
     "data": {
      "text/plain": [
       "<keras.src.callbacks.History at 0x16b152dd0>"
      ]
     },
     "execution_count": 3,
     "metadata": {},
     "output_type": "execute_result"
    }
   ],
   "source": [
    "clustered_model.fit(\n",
    "X_train,\n",
    "y_train,\n",
    "batch_size=128,\n",
    "epochs=2,\n",
    "validation_split=0.1)"
   ]
  },
  {
   "cell_type": "code",
   "execution_count": 5,
   "id": "b5f339a7",
   "metadata": {},
   "outputs": [
    {
     "name": "stdout",
     "output_type": "stream",
     "text": [
      "INFO:tensorflow:Assets written to: /var/folders/bs/x0lj933d1hv0py0d4w2ypdp40000gn/T/tmp857v65tg/assets\n"
     ]
    },
    {
     "name": "stderr",
     "output_type": "stream",
     "text": [
      "INFO:tensorflow:Assets written to: /var/folders/bs/x0lj933d1hv0py0d4w2ypdp40000gn/T/tmp857v65tg/assets\n"
     ]
    },
    {
     "name": "stdout",
     "output_type": "stream",
     "text": [
      "✅ Clustered TFLite model saved at: /Users/oscarpatrikminj/Documents/IITR/FMNIST/tflite_models/model_clustered.tflite\n"
     ]
    },
    {
     "name": "stderr",
     "output_type": "stream",
     "text": [
      "2025-06-05 18:49:42.273797: W tensorflow/compiler/mlir/lite/python/tf_tfl_flatbuffer_helpers.cc:364] Ignored output_format.\n",
      "2025-06-05 18:49:42.273812: W tensorflow/compiler/mlir/lite/python/tf_tfl_flatbuffer_helpers.cc:367] Ignored drop_control_dependency.\n",
      "2025-06-05 18:49:42.274002: I tensorflow/cc/saved_model/reader.cc:45] Reading SavedModel from: /var/folders/bs/x0lj933d1hv0py0d4w2ypdp40000gn/T/tmp857v65tg\n",
      "2025-06-05 18:49:42.274881: I tensorflow/cc/saved_model/reader.cc:91] Reading meta graph with tags { serve }\n",
      "2025-06-05 18:49:42.274888: I tensorflow/cc/saved_model/reader.cc:132] Reading SavedModel debug info (if present) from: /var/folders/bs/x0lj933d1hv0py0d4w2ypdp40000gn/T/tmp857v65tg\n",
      "2025-06-05 18:49:42.277634: I tensorflow/cc/saved_model/loader.cc:231] Restoring SavedModel bundle.\n",
      "2025-06-05 18:49:42.299152: I tensorflow/cc/saved_model/loader.cc:215] Running initialization op on SavedModel bundle at path: /var/folders/bs/x0lj933d1hv0py0d4w2ypdp40000gn/T/tmp857v65tg\n",
      "2025-06-05 18:49:42.307388: I tensorflow/cc/saved_model/loader.cc:314] SavedModel load for tags { serve }; Status: success: OK. Took 33391 microseconds.\n"
     ]
    }
   ],
   "source": [
    "import tensorflow as tf\n",
    "import tensorflow_model_optimization as tfmot\n",
    "import pathlib\n",
    "\n",
    "# Strip clustering wrappers to get final clustered model\n",
    "model_for_export = tfmot.clustering.keras.strip_clustering(clustered_model)\n",
    "\n",
    "# Convert the stripped model to TFLite\n",
    "converter = tf.lite.TFLiteConverter.from_keras_model(model_for_export)\n",
    "tflite_model_clustered = converter.convert()\n",
    "\n",
    "# Define your absolute path\n",
    "tflite_models_dir = pathlib.Path(\"/Users/oscarpatrikminj/Documents/IITR/FMNIST/tflite_models\")\n",
    "\n",
    "# Create directory if not exists\n",
    "tflite_models_dir.mkdir(exist_ok=True, parents=True)\n",
    "\n",
    "# Save the clustered TFLite model\n",
    "tflite_model_file = tflite_models_dir / \"model_clustered.tflite\"\n",
    "tflite_model_file.write_bytes(tflite_model_clustered)\n",
    "\n",
    "print(f\"✅ Clustered TFLite model saved at: {tflite_model_file}\")\n"
   ]
  },
  {
   "cell_type": "code",
   "execution_count": 6,
   "id": "767c80e2",
   "metadata": {},
   "outputs": [
    {
     "name": "stderr",
     "output_type": "stream",
     "text": [
      "INFO: Created TensorFlow Lite XNNPACK delegate for CPU.\n"
     ]
    },
    {
     "name": "stdout",
     "output_type": "stream",
     "text": [
      "Accuracy: 0.9175\n",
      "Size of zipped clustered TFLite model: 128063.00 bytes\n",
      "Size in KB: 125.06 KB\n"
     ]
    }
   ],
   "source": [
    "import numpy as np\n",
    "import tensorflow as tf\n",
    "import tempfile\n",
    "import os\n",
    "import zipfile\n",
    "from pathlib import Path\n",
    "\n",
    "# Function to get gzipped model size\n",
    "def get_gzipped_model(file_path):\n",
    "    _, zipped_file = tempfile.mkstemp('.zip')\n",
    "    with zipfile.ZipFile(zipped_file, 'w', compression=zipfile.ZIP_DEFLATED) as f:\n",
    "        f.write(file_path, arcname=Path(file_path).name)\n",
    "    size = os.path.getsize(zipped_file)\n",
    "    os.remove(zipped_file)\n",
    "    return size\n",
    "\n",
    "# Load the clustered TFLite model\n",
    "tflite_model_file = 'tflite_models/model_clustered.tflite'\n",
    "interpreter = tf.lite.Interpreter(model_path=tflite_model_file)\n",
    "interpreter.allocate_tensors()\n",
    "\n",
    "input_index = interpreter.get_input_details()[0]['index']\n",
    "output_index = interpreter.get_output_details()[0]['index']\n",
    "\n",
    "pred_list = []\n",
    "\n",
    "for image in X_test:\n",
    "    input_data = np.array(image, dtype=np.float32)\n",
    "    input_data = input_data.reshape(1, input_data.shape[0], input_data.shape[1], 1)\n",
    "    interpreter.set_tensor(input_index, input_data)\n",
    "    interpreter.invoke()\n",
    "    prediction = interpreter.get_tensor(output_index)\n",
    "    prediction = np.argmax(prediction)\n",
    "    pred_list.append(prediction)\n",
    "\n",
    "accurate_count = 0\n",
    "for idx in range(len(pred_list)):\n",
    "    if pred_list[idx] == np.argmax(y_test[idx]):\n",
    "        accurate_count += 1\n",
    "\n",
    "accuracy = accurate_count / len(pred_list)\n",
    "print('Accuracy:', accuracy)\n",
    "\n",
    "# Print zipped clustered model size\n",
    "zipped_size = get_gzipped_model(tflite_model_file)\n",
    "print('Size of zipped clustered TFLite model: %.2f bytes' % zipped_size)\n",
    "print('Size in KB: %.2f KB' % (zipped_size / 1024))\n"
   ]
  },
  {
   "cell_type": "code",
   "execution_count": 10,
   "id": "7c4994b7",
   "metadata": {},
   "outputs": [
    {
     "name": "stdout",
     "output_type": "stream",
     "text": [
      " Accuracy: 91.75%\n",
      " Model Size: 706.16 KB\n",
      " Memory Usage: 121.19 MB\n",
      " Avg Inference Time per Image: 0.16 ms\n",
      "Size of zipped clustered TFLite model: 128063.00 bytes\n",
      "Size in KB: 125.06 KB\n"
     ]
    }
   ],
   "source": [
    "import numpy as np\n",
    "import tensorflow as tf\n",
    "import os\n",
    "import time\n",
    "import psutil\n",
    "from pathlib import Path\n",
    "\n",
    "# 1. Load TFLite model\n",
    "tflite_model_file = 'tflite_models/model_clustered.tflite'\n",
    "interpreter = tf.lite.Interpreter(model_path=tflite_model_file)\n",
    "interpreter.allocate_tensors()\n",
    "\n",
    "input_index = interpreter.get_input_details()[0]['index']\n",
    "output_index = interpreter.get_output_details()[0]['index']\n",
    "\n",
    "# 2. Evaluate accuracy + time\n",
    "pred_list = []\n",
    "start_time = time.time()\n",
    "\n",
    "for image in X_test:\n",
    "    input_data = np.array(image, dtype=np.float32).reshape(1, 28, 28, 1)\n",
    "    interpreter.set_tensor(input_index, input_data)\n",
    "    interpreter.invoke()\n",
    "    prediction = interpreter.get_tensor(output_index)\n",
    "    pred_list.append(np.argmax(prediction))\n",
    "\n",
    "end_time = time.time()\n",
    "total_time = end_time - start_time\n",
    "avg_time_per_image = total_time / len(X_test)\n",
    "\n",
    "# 3. Accuracy calculation\n",
    "correct = sum(int(pred_list[i] == np.argmax(y_test[i])) for i in range(len(pred_list)))\n",
    "accuracy = correct / len(pred_list)\n",
    "\n",
    "# 4. Model file size in KB\n",
    "model_size_kb = os.path.getsize(tflite_model_file) / 1024\n",
    "\n",
    "# 5. Memory used during inference\n",
    "process = psutil.Process(os.getpid())\n",
    "memory_used_mb = process.memory_info().rss / (1024 * 1024)  # in MB\n",
    "\n",
    "# 6. Print results\n",
    "print(f\" Accuracy: {accuracy * 100:.2f}%\")\n",
    "print(f\" Model Size: {model_size_kb:.2f} KB\")\n",
    "print(f\" Memory Usage: {memory_used_mb:.2f} MB\")\n",
    "print(f\" Avg Inference Time per Image: {avg_time_per_image * 1000:.2f} ms\")\n",
    "\n",
    "\n",
    "print('Size of zipped clustered TFLite model: %.2f bytes' % zipped_size)\n",
    "print('Size in KB: %.2f KB' % (zipped_size / 1024))\n"
   ]
  }
 ],
 "metadata": {
  "kernelspec": {
   "display_name": "venv",
   "language": "python",
   "name": "python3"
  },
  "language_info": {
   "codemirror_mode": {
    "name": "ipython",
    "version": 3
   },
   "file_extension": ".py",
   "mimetype": "text/x-python",
   "name": "python",
   "nbconvert_exporter": "python",
   "pygments_lexer": "ipython3",
   "version": "3.10.13"
  }
 },
 "nbformat": 4,
 "nbformat_minor": 5
}
