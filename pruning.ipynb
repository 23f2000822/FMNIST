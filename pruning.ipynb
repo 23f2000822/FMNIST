{
 "cells": [
  {
   "cell_type": "code",
   "execution_count": 1,
   "id": "2993be90",
   "metadata": {},
   "outputs": [
    {
     "name": "stdout",
     "output_type": "stream",
     "text": [
      "✅ Baseline model loaded\n",
      "✅ Pruning wrapper applied\n",
      "✅ Model compiled with pruning\n"
     ]
    }
   ],
   "source": [
    "import numpy as np\n",
    "import tensorflow as tf\n",
    "import tensorflow_model_optimization as tfmot\n",
    "from tensorflow.keras.models import load_model\n",
    "from tensorflow.keras.datasets import fashion_mnist\n",
    "from tensorflow.keras.utils import to_categorical\n",
    "\n",
    "# 1. Load Fashion MNIST dataset\n",
    "(X_train, y_train), (X_test, y_test) = fashion_mnist.load_data()\n",
    "\n",
    "# Normalize and reshape\n",
    "X_train = X_train.astype('float32') / 255.0\n",
    "X_test = X_test.astype('float32') / 255.0\n",
    "X_train = np.expand_dims(X_train, -1)  # shape: (60000, 28, 28, 1)\n",
    "X_test = np.expand_dims(X_test, -1)\n",
    "\n",
    "# One-hot encode labels (because pruning loss expects categorical)\n",
    "y_train = to_categorical(y_train, num_classes=10)\n",
    "y_test = to_categorical(y_test, num_classes=10)\n",
    "\n",
    "# 2. Load baseline model (make sure it's compiled if needed)\n",
    "baseline_model = load_model('baseline_model1.h5')\n",
    "print(\"✅ Baseline model loaded\")\n",
    "\n",
    "# 3. Setup pruning parameters\n",
    "prune_low_magnitude = tfmot.sparsity.keras.prune_low_magnitude\n",
    "batch_size = 128\n",
    "epochs = 2\n",
    "validation_split = 0.1\n",
    "\n",
    "num_samples = int(X_train.shape[0] * (1 - validation_split))\n",
    "end_step = np.ceil(num_samples / batch_size).astype(np.int32) * epochs\n",
    "\n",
    "pruning_params = {\n",
    "    'pruning_schedule': tfmot.sparsity.keras.PolynomialDecay(\n",
    "        initial_sparsity=0.40,\n",
    "        final_sparsity=0.75,\n",
    "        begin_step=0,\n",
    "        end_step=end_step\n",
    "    )\n",
    "}\n",
    "\n",
    "# 4. Apply pruning wrapper to baseline model\n",
    "model_for_pruning = prune_low_magnitude(baseline_model, **pruning_params)\n",
    "print(\"✅ Pruning wrapper applied\")\n",
    "\n",
    "# 5. Compile the model\n",
    "model_for_pruning.compile(\n",
    "    optimizer='adam',\n",
    "    loss=tf.keras.losses.CategoricalCrossentropy(from_logits=True),\n",
    "    metrics=['accuracy']\n",
    ")\n",
    "print(\"✅ Model compiled with pruning\")\n",
    "\n",
    "# Now ready to call model_for_pruning.fit(...) to train\n",
    "\n"
   ]
  },
  {
   "cell_type": "code",
   "execution_count": 2,
   "id": "b3e3f17d",
   "metadata": {},
   "outputs": [
    {
     "name": "stdout",
     "output_type": "stream",
     "text": [
      "Model: \"sequential\"\n",
      "_________________________________________________________________\n",
      " Layer (type)                Output Shape              Param #   \n",
      "=================================================================\n",
      " prune_low_magnitude_conv2d  (None, 26, 26, 32)        610       \n",
      "  (PruneLowMagnitude)                                            \n",
      "                                                                 \n",
      " prune_low_magnitude_max_po  (None, 13, 13, 32)        1         \n",
      " oling2d (PruneLowMagnitude                                      \n",
      " )                                                               \n",
      "                                                                 \n",
      " prune_low_magnitude_conv2d  (None, 11, 11, 64)        36930     \n",
      " _1 (PruneLowMagnitude)                                          \n",
      "                                                                 \n",
      " prune_low_magnitude_max_po  (None, 5, 5, 64)          1         \n",
      " oling2d_1 (PruneLowMagnitu                                      \n",
      " de)                                                             \n",
      "                                                                 \n",
      " prune_low_magnitude_flatte  (None, 1600)              1         \n",
      " n (PruneLowMagnitude)                                           \n",
      "                                                                 \n",
      " prune_low_magnitude_dropou  (None, 1600)              1         \n",
      " t (PruneLowMagnitude)                                           \n",
      "                                                                 \n",
      " prune_low_magnitude_dense   (None, 100)               320102    \n",
      " (PruneLowMagnitude)                                             \n",
      "                                                                 \n",
      " prune_low_magnitude_dense_  (None, 10)                2012      \n",
      " 1 (PruneLowMagnitude)                                           \n",
      "                                                                 \n",
      "=================================================================\n",
      "Total params: 359658 (1.37 MB)\n",
      "Trainable params: 179926 (702.84 KB)\n",
      "Non-trainable params: 179732 (702.11 KB)\n",
      "_________________________________________________________________\n",
      "None\n"
     ]
    }
   ],
   "source": [
    "print(model_for_pruning.summary())"
   ]
  },
  {
   "cell_type": "code",
   "execution_count": 3,
   "id": "ee2c3bde",
   "metadata": {},
   "outputs": [],
   "source": [
    "import tempfile\n",
    "import pathlib\n",
    "\n",
    "# 6. Setup pruning callbacks\n",
    "log_dir = tempfile.mkdtemp()\n",
    "callbacks = [\n",
    "    tfmot.sparsity.keras.UpdatePruningStep(),\n",
    "    tfmot.sparsity.keras.PruningSummaries(log_dir=log_dir),\n",
    "]\n"
   ]
  },
  {
   "cell_type": "code",
   "execution_count": 4,
   "id": "c5bf3499",
   "metadata": {},
   "outputs": [
    {
     "name": "stdout",
     "output_type": "stream",
     "text": [
      "Epoch 1/2\n"
     ]
    },
    {
     "name": "stderr",
     "output_type": "stream",
     "text": [
      "/Users/oscarpatrikminj/Documents/IITR/FMNIST/venv/lib/python3.10/site-packages/keras/src/backend.py:5562: UserWarning: \"`categorical_crossentropy` received `from_logits=True`, but the `output` argument was produced by a Softmax activation and thus does not represent logits. Was this intended?\n",
      "  output, from_logits = _get_logits(\n"
     ]
    },
    {
     "name": "stdout",
     "output_type": "stream",
     "text": [
      "  4/422 [..............................] - ETA: 9s - loss: 0.2047 - accuracy: 0.9199   WARNING:tensorflow:Callback method `on_train_batch_end` is slow compared to the batch time (batch time: 0.0208s vs `on_train_batch_end` time: 0.0555s). Check your callbacks.\n",
      "422/422 [==============================] - 18s 37ms/step - loss: 0.2466 - accuracy: 0.9061 - val_loss: 0.2841 - val_accuracy: 0.8993\n",
      "Epoch 2/2\n",
      "422/422 [==============================] - 15s 36ms/step - loss: 0.2923 - accuracy: 0.8887 - val_loss: 0.2533 - val_accuracy: 0.9068\n",
      "✅ Model trained with pruning\n"
     ]
    }
   ],
   "source": [
    "# 7. Train the model (2 epochs with 10% validation split)\n",
    "model_for_pruning.fit(\n",
    "    X_train,\n",
    "    y_train,\n",
    "    batch_size=batch_size,\n",
    "    epochs=epochs,\n",
    "    validation_split=validation_split,\n",
    "    callbacks=callbacks\n",
    ")\n",
    "print(\"✅ Model trained with pruning\")"
   ]
  },
  {
   "cell_type": "code",
   "execution_count": 5,
   "id": "b57137e9",
   "metadata": {},
   "outputs": [
    {
     "name": "stdout",
     "output_type": "stream",
     "text": [
      "INFO:tensorflow:Assets written to: /var/folders/bs/x0lj933d1hv0py0d4w2ypdp40000gn/T/tmp9sy2ziyq/assets\n"
     ]
    },
    {
     "name": "stderr",
     "output_type": "stream",
     "text": [
      "INFO:tensorflow:Assets written to: /var/folders/bs/x0lj933d1hv0py0d4w2ypdp40000gn/T/tmp9sy2ziyq/assets\n"
     ]
    },
    {
     "name": "stdout",
     "output_type": "stream",
     "text": [
      "✅ Pruned TFLite model saved at: tflite_models/model_pruned.tflite\n"
     ]
    },
    {
     "name": "stderr",
     "output_type": "stream",
     "text": [
      "2025-06-05 18:34:52.648102: W tensorflow/compiler/mlir/lite/python/tf_tfl_flatbuffer_helpers.cc:364] Ignored output_format.\n",
      "2025-06-05 18:34:52.648319: W tensorflow/compiler/mlir/lite/python/tf_tfl_flatbuffer_helpers.cc:367] Ignored drop_control_dependency.\n",
      "2025-06-05 18:34:52.649257: I tensorflow/cc/saved_model/reader.cc:45] Reading SavedModel from: /var/folders/bs/x0lj933d1hv0py0d4w2ypdp40000gn/T/tmp9sy2ziyq\n",
      "2025-06-05 18:34:52.650168: I tensorflow/cc/saved_model/reader.cc:91] Reading meta graph with tags { serve }\n",
      "2025-06-05 18:34:52.650176: I tensorflow/cc/saved_model/reader.cc:132] Reading SavedModel debug info (if present) from: /var/folders/bs/x0lj933d1hv0py0d4w2ypdp40000gn/T/tmp9sy2ziyq\n",
      "2025-06-05 18:34:52.653092: I tensorflow/compiler/mlir/mlir_graph_optimization_pass.cc:375] MLIR V1 optimization pass is not enabled\n",
      "2025-06-05 18:34:52.653974: I tensorflow/cc/saved_model/loader.cc:231] Restoring SavedModel bundle.\n",
      "2025-06-05 18:34:52.679308: I tensorflow/cc/saved_model/loader.cc:215] Running initialization op on SavedModel bundle at path: /var/folders/bs/x0lj933d1hv0py0d4w2ypdp40000gn/T/tmp9sy2ziyq\n",
      "2025-06-05 18:34:52.687505: I tensorflow/cc/saved_model/loader.cc:314] SavedModel load for tags { serve }; Status: success: OK. Took 38251 microseconds.\n",
      "2025-06-05 18:34:52.717732: I tensorflow/compiler/mlir/tensorflow/utils/dump_mlir_util.cc:255] disabling MLIR crash reproducer, set env var `MLIR_CRASH_REPRODUCER_DIRECTORY` to enable.\n"
     ]
    }
   ],
   "source": [
    "# 1. Strip pruning wrappers to get final sparse model\n",
    "model_for_export = tfmot.sparsity.keras.strip_pruning(model_for_pruning)\n",
    "\n",
    "# 2. Convert the stripped model to TFLite format\n",
    "converter = tf.lite.TFLiteConverter.from_keras_model(model_for_export)\n",
    "tflite_model_pruned = converter.convert()\n",
    "\n",
    "# 3. Save the TFLite model file\n",
    "tflite_models_dir = pathlib.Path('tflite_models/')  # Change to '/content/tflite_models/' if running on Colab\n",
    "tflite_models_dir.mkdir(exist_ok=True, parents=True)\n",
    "tflite_model_file = tflite_models_dir / 'model_pruned.tflite'\n",
    "tflite_model_file.write_bytes(tflite_model_pruned)\n",
    "\n",
    "print(f\"✅ Pruned TFLite model saved at: {tflite_model_file}\")"
   ]
  },
  {
   "cell_type": "code",
   "execution_count": 6,
   "id": "eb47f901",
   "metadata": {},
   "outputs": [
    {
     "name": "stderr",
     "output_type": "stream",
     "text": [
      "INFO: Created TensorFlow Lite XNNPACK delegate for CPU.\n"
     ]
    },
    {
     "name": "stdout",
     "output_type": "stream",
     "text": [
      "Accuracy = 0.9022\n"
     ]
    }
   ],
   "source": [
    "tflite_model_file = 'tflite_models/model_pruned.tflite'\n",
    "interpreter = tf.lite.Interpreter(model_path=tflite_model_file)\n",
    "interpreter.allocate_tensors()\n",
    "\n",
    "input_index = interpreter.get_input_details()[0]['index']\n",
    "output_index = interpreter.get_output_details()[0]['index']\n",
    "\n",
    "pred_list = []\n",
    "\n",
    "for images in X_test:\n",
    "    input_data = np.array(images, dtype=np.float32)\n",
    "    input_data = input_data.reshape(1, input_data.shape[0], input_data.shape[1], 1)  # Add batch & channel dims\n",
    "    interpreter.set_tensor(input_index, input_data)\n",
    "    interpreter.invoke()\n",
    "    prediction = interpreter.get_tensor(output_index)\n",
    "    predicted_label = np.argmax(prediction)\n",
    "    pred_list.append(predicted_label)\n",
    "\n",
    "accurate_count = 0\n",
    "for index in range(len(pred_list)):\n",
    "    if pred_list[index] == np.argmax(y_test[index]):\n",
    "        accurate_count += 1\n",
    "\n",
    "accuracy = accurate_count / len(pred_list)\n",
    "print('Accuracy =', accuracy)"
   ]
  },
  {
   "cell_type": "code",
   "execution_count": 8,
   "id": "031c2e29",
   "metadata": {},
   "outputs": [
    {
     "name": "stdout",
     "output_type": "stream",
     "text": [
      "Size of zipped pruned TFlite model: 245906.00 bytes\n"
     ]
    }
   ],
   "source": [
    "import os\n",
    "import zipfile\n",
    "import tempfile\n",
    "\n",
    "def get_gzipped_model(file_path):\n",
    "    # Create a temporary zip file\n",
    "    _, zipped_file = tempfile.mkstemp('.zip')\n",
    "    with zipfile.ZipFile(zipped_file, 'w', compression=zipfile.ZIP_DEFLATED) as f:\n",
    "        f.write(file_path, arcname=os.path.basename(file_path))\n",
    "    size = os.path.getsize(zipped_file)\n",
    "    os.remove(zipped_file)  # Clean up temp zip file\n",
    "    return size\n",
    "\n",
    "# Example usage:\n",
    "#baseline_model_path = 'tflite_models/model.tflite'\n",
    "pruned_model_path = 'tflite_models/model_pruned.tflite'\n",
    "\n",
    "#print('Size of compressed baseline model: %.2f bytes' % get_gzipped_model(baseline_model_path))\n",
    "print('Size of zipped pruned TFlite model: %.2f bytes' % get_gzipped_model(pruned_model_path))\n"
   ]
  },
  {
   "cell_type": "code",
   "execution_count": 9,
   "id": "a54b6f25",
   "metadata": {},
   "outputs": [
    {
     "name": "stdout",
     "output_type": "stream",
     "text": [
      "Accuracy on test set: 90.22%\n",
      "Average inference time per sample: 0.154 ms\n",
      "Model size (uncompressed): 706.16 KB\n",
      "Model size (compressed ZIP): 240.14 KB\n"
     ]
    }
   ],
   "source": [
    "import time\n",
    "import numpy as np\n",
    "import tensorflow as tf\n",
    "import os\n",
    "import zipfile\n",
    "import tempfile\n",
    "import pathlib\n",
    "\n",
    "# Paths\n",
    "tflite_model_file = 'tflite_models/model_pruned.tflite'\n",
    "\n",
    "# Load TFLite model\n",
    "interpreter = tf.lite.Interpreter(model_path=tflite_model_file)\n",
    "interpreter.allocate_tensors()\n",
    "input_index = interpreter.get_input_details()[0]['index']\n",
    "output_index = interpreter.get_output_details()[0]['index']\n",
    "\n",
    "# Function to get zipped model size in KB\n",
    "def get_gzipped_model_size(file_path):\n",
    "    _, zipped_file = tempfile.mkstemp('.zip')\n",
    "    with zipfile.ZipFile(zipped_file, 'w', compression=zipfile.ZIP_DEFLATED) as f:\n",
    "        f.write(file_path, arcname=os.path.basename(file_path))\n",
    "    size = os.path.getsize(zipped_file)\n",
    "    os.remove(zipped_file)\n",
    "    return size / 1024  # KB\n",
    "\n",
    "# Run inference on test data and compute accuracy + timing\n",
    "pred_list = []\n",
    "total_inference_time = 0.0\n",
    "\n",
    "for image in X_test:\n",
    "    input_data = np.array(image, dtype=np.float32)\n",
    "    input_data = input_data.reshape(1, input_data.shape[0], input_data.shape[1], 1)  # Adjust if needed\n",
    "\n",
    "    start_time = time.time()\n",
    "    interpreter.set_tensor(input_index, input_data)\n",
    "    interpreter.invoke()\n",
    "    inference_time = time.time() - start_time\n",
    "    total_inference_time += inference_time\n",
    "\n",
    "    prediction = interpreter.get_tensor(output_index)\n",
    "    pred_label = np.argmax(prediction)\n",
    "    pred_list.append(pred_label)\n",
    "\n",
    "# Calculate accuracy\n",
    "accurate_count = sum([pred_list[i] == np.argmax(y_test[i]) for i in range(len(pred_list))])\n",
    "accuracy = accurate_count / len(pred_list)\n",
    "\n",
    "# Calculate average inference time per sample (in milliseconds)\n",
    "avg_inference_time_ms = (total_inference_time / len(pred_list)) * 1000\n",
    "\n",
    "# Get model sizes\n",
    "model_size_kb = os.path.getsize(tflite_model_file) / 1024\n",
    "compressed_model_size_kb = get_gzipped_model_size(tflite_model_file)\n",
    "\n",
    "print(f\"Accuracy on test set: {accuracy*100:.2f}%\")\n",
    "print(f\"Average inference time per sample: {avg_inference_time_ms:.3f} ms\")\n",
    "print(f\"Model size (uncompressed): {model_size_kb:.2f} KB\")\n",
    "print(f\"Model size (compressed ZIP): {compressed_model_size_kb:.2f} KB\")\n"
   ]
  }
 ],
 "metadata": {
  "kernelspec": {
   "display_name": "venv",
   "language": "python",
   "name": "python3"
  },
  "language_info": {
   "codemirror_mode": {
    "name": "ipython",
    "version": 3
   },
   "file_extension": ".py",
   "mimetype": "text/x-python",
   "name": "python",
   "nbconvert_exporter": "python",
   "pygments_lexer": "ipython3",
   "version": "3.10.13"
  }
 },
 "nbformat": 4,
 "nbformat_minor": 5
}
