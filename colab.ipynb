{
 "cells": [
  {
   "cell_type": "code",
   "execution_count": 1,
   "id": "8bc1791b",
   "metadata": {},
   "outputs": [
    {
     "name": "stdout",
     "output_type": "stream",
     "text": [
      "✅ Baseline model loaded\n"
     ]
    }
   ],
   "source": [
    "import numpy as np\n",
    "import tensorflow as tf\n",
    "import tensorflow_model_optimization as tfmot\n",
    "from tensorflow.keras.models import load_model\n",
    "from tensorflow.keras.datasets import fashion_mnist\n",
    "from tensorflow.keras.utils import to_categorical\n",
    "\n",
    "# 1. Load Fashion MNIST dataset\n",
    "(X_train, y_train), (X_test, y_test) = fashion_mnist.load_data()\n",
    "\n",
    "# Normalize and reshape to (batch, height, width, channels)\n",
    "X_train = X_train.astype('float32') / 255.0\n",
    "X_test = X_test.astype('float32') / 255.0\n",
    "X_train = np.expand_dims(X_train, axis=-1)  # shape: (60000, 28, 28, 1)\n",
    "X_test = np.expand_dims(X_test, axis=-1)\n",
    "\n",
    "# One-hot encode labels\n",
    "y_train = to_categorical(y_train, num_classes=10)\n",
    "y_test = to_categorical(y_test, num_classes=10)\n",
    "\n",
    "# 2. Load baseline model\n",
    "baseline_model = load_model('baseline_model3.h5')\n",
    "print(\"✅ Baseline model loaded\")\n"
   ]
  },
  {
   "cell_type": "code",
   "execution_count": 2,
   "id": "7aab978c",
   "metadata": {},
   "outputs": [
    {
     "name": "stdout",
     "output_type": "stream",
     "text": [
      "Model: \"sequential\"\n",
      "_________________________________________________________________\n",
      " Layer (type)                Output Shape              Param #   \n",
      "=================================================================\n",
      " prune_low_magnitude_conv2d  (None, 26, 26, 32)        610       \n",
      "  (PruneLowMagnitude)                                            \n",
      "                                                                 \n",
      " prune_low_magnitude_max_po  (None, 13, 13, 32)        1         \n",
      " oling2d (PruneLowMagnitude                                      \n",
      " )                                                               \n",
      "                                                                 \n",
      " prune_low_magnitude_conv2d  (None, 11, 11, 64)        36930     \n",
      " _1 (PruneLowMagnitude)                                          \n",
      "                                                                 \n",
      " prune_low_magnitude_max_po  (None, 5, 5, 64)          1         \n",
      " oling2d_1 (PruneLowMagnitu                                      \n",
      " de)                                                             \n",
      "                                                                 \n",
      " prune_low_magnitude_flatte  (None, 1600)              1         \n",
      " n (PruneLowMagnitude)                                           \n",
      "                                                                 \n",
      " prune_low_magnitude_dropou  (None, 1600)              1         \n",
      " t (PruneLowMagnitude)                                           \n",
      "                                                                 \n",
      " prune_low_magnitude_dense   (None, 100)               320102    \n",
      " (PruneLowMagnitude)                                             \n",
      "                                                                 \n",
      " prune_low_magnitude_dense_  (None, 10)                2012      \n",
      " 1 (PruneLowMagnitude)                                           \n",
      "                                                                 \n",
      "=================================================================\n",
      "Total params: 359658 (1.37 MB)\n",
      "Trainable params: 179926 (702.84 KB)\n",
      "Non-trainable params: 179732 (702.11 KB)\n",
      "_________________________________________________________________\n"
     ]
    }
   ],
   "source": [
    "import tensorflow_model_optimization as tfmot\n",
    "prune_low_magnitude = tfmot.sparsity.keras.prune_low_magnitude\n",
    "\n",
    "pruning_params = {'pruning_schedule': tfmot.sparsity.keras.ConstantSparsity(0.5,\n",
    "                begin_step=0, frequency=100)\n",
    "        }\n",
    "callbacks = [tfmot.sparsity.keras.UpdatePruningStep()]\n",
    "pruned_model = prune_low_magnitude(baseline_model, **pruning_params)\n",
    "pruned_model.summary()"
   ]
  },
  {
   "cell_type": "code",
   "execution_count": 3,
   "id": "d3b0628a",
   "metadata": {},
   "outputs": [
    {
     "name": "stderr",
     "output_type": "stream",
     "text": [
      "WARNING:absl:At this time, the v2.11+ optimizer `tf.keras.optimizers.Adam` runs slowly on M1/M2 Macs, please use the legacy Keras optimizer instead, located at `tf.keras.optimizers.legacy.Adam`.\n",
      "WARNING:absl:There is a known slowdown when using v2.11+ Keras optimizers on M1/M2 Macs. Falling back to the legacy Keras optimizer, i.e., `tf.keras.optimizers.legacy.Adam`.\n"
     ]
    },
    {
     "name": "stdout",
     "output_type": "stream",
     "text": [
      "Model: \"sequential\"\n",
      "_________________________________________________________________\n",
      " Layer (type)                Output Shape              Param #   \n",
      "=================================================================\n",
      " prune_low_magnitude_conv2d  (None, 26, 26, 32)        610       \n",
      "  (PruneLowMagnitude)                                            \n",
      "                                                                 \n",
      " prune_low_magnitude_max_po  (None, 13, 13, 32)        1         \n",
      " oling2d (PruneLowMagnitude                                      \n",
      " )                                                               \n",
      "                                                                 \n",
      " prune_low_magnitude_conv2d  (None, 11, 11, 64)        36930     \n",
      " _1 (PruneLowMagnitude)                                          \n",
      "                                                                 \n",
      " prune_low_magnitude_max_po  (None, 5, 5, 64)          1         \n",
      " oling2d_1 (PruneLowMagnitu                                      \n",
      " de)                                                             \n",
      "                                                                 \n",
      " prune_low_magnitude_flatte  (None, 1600)              1         \n",
      " n (PruneLowMagnitude)                                           \n",
      "                                                                 \n",
      " prune_low_magnitude_dropou  (None, 1600)              1         \n",
      " t (PruneLowMagnitude)                                           \n",
      "                                                                 \n",
      " prune_low_magnitude_dense   (None, 100)               320102    \n",
      " (PruneLowMagnitude)                                             \n",
      "                                                                 \n",
      " prune_low_magnitude_dense_  (None, 10)                2012      \n",
      " 1 (PruneLowMagnitude)                                           \n",
      "                                                                 \n",
      "=================================================================\n",
      "Total params: 359658 (1.37 MB)\n",
      "Trainable params: 179926 (702.84 KB)\n",
      "Non-trainable params: 179732 (702.11 KB)\n",
      "_________________________________________________________________\n",
      "Epoch 1/3\n"
     ]
    },
    {
     "name": "stderr",
     "output_type": "stream",
     "text": [
      "/Users/oscarpatrikminj/Documents/IITR/FMNIST/venv/lib/python3.10/site-packages/keras/src/backend.py:5562: UserWarning: \"`categorical_crossentropy` received `from_logits=True`, but the `output` argument was produced by a Softmax activation and thus does not represent logits. Was this intended?\n",
      "  output, from_logits = _get_logits(\n"
     ]
    },
    {
     "name": "stdout",
     "output_type": "stream",
     "text": [
      "422/422 [==============================] - 18s 37ms/step - loss: 0.3293 - accuracy: 0.8774 - val_loss: 0.3488 - val_accuracy: 0.8723\n",
      "Epoch 2/3\n",
      "422/422 [==============================] - 16s 37ms/step - loss: 0.3330 - accuracy: 0.8792 - val_loss: 0.3135 - val_accuracy: 0.8873\n",
      "Epoch 3/3\n",
      "422/422 [==============================] - 16s 38ms/step - loss: 0.3018 - accuracy: 0.8886 - val_loss: 0.2928 - val_accuracy: 0.8940\n"
     ]
    },
    {
     "data": {
      "text/plain": [
       "<keras.src.callbacks.History at 0x14f7a9a20>"
      ]
     },
     "execution_count": 3,
     "metadata": {},
     "output_type": "execute_result"
    }
   ],
   "source": [
    "opt = tf.keras.optimizers.Adam(learning_rate=1e-5)\n",
    "pruned_model.compile(\n",
    "loss=tf.keras.losses.CategoricalCrossentropy(from_logits=True),\n",
    "optimizer=opt,metrics=['accuracy'])\n",
    "pruned_model.summary()\n",
    "\n",
    "pruned_model.fit(X_train, y_train, batch_size=128, epochs=3,validation_split=0.1, callbacks=callbacks)"
   ]
  },
  {
   "cell_type": "code",
   "execution_count": 4,
   "id": "57dbcaf9",
   "metadata": {},
   "outputs": [],
   "source": [
    "stripped_pruned_model = tfmot.sparsity.keras.strip_pruning(pruned_model)\n",
    "# make a cloning of the model\n",
    "\n",
    "stripped_pruned_model_copy = tf.keras.models.clone_model(stripped_pruned_model)\n",
    "\n",
    "stripped_pruned_model_copy.set_weights(stripped_pruned_model.get_weights())"
   ]
  },
  {
   "cell_type": "code",
   "execution_count": 5,
   "id": "56bb7ee9",
   "metadata": {},
   "outputs": [],
   "source": [
    "from tensorflow_model_optimization.python.core.clustering.keras.experimental import (cluster,)\n",
    "\n",
    "cluster_weights = tfmot.clustering.keras.cluster_weights\n",
    "\n",
    "CentroidInitialization = tfmot.clustering.keras.CentroidInitialization.KMEANS_PLUS_PLUS\n",
    "\n",
    "cluster_weights = cluster.cluster_weights\n",
    "\n",
    "clustering_params = {\n",
    "'number_of_clusters': 8,\n",
    "'cluster_centroids_init': CentroidInitialization.KMEANS_PLUS_PLUS,\n",
    "'preserve_sparsity': True\n",
    "}\n",
    "\n",
    "sparsity_clustered_model = cluster_weights(stripped_pruned_model_copy,**clustering_params)"
   ]
  },
  {
   "cell_type": "code",
   "execution_count": 7,
   "id": "9e09adde",
   "metadata": {},
   "outputs": [
    {
     "name": "stdout",
     "output_type": "stream",
     "text": [
      "Epoch 1/3\n",
      "422/422 [==============================] - 19s 43ms/step - loss: 0.1617 - accuracy: 0.9391 - val_loss: 0.2351 - val_accuracy: 0.9197\n",
      "Epoch 2/3\n",
      "422/422 [==============================] - 18s 44ms/step - loss: 0.1373 - accuracy: 0.9480 - val_loss: 0.2733 - val_accuracy: 0.9063\n",
      "Epoch 3/3\n",
      "422/422 [==============================] - 18s 42ms/step - loss: 0.1304 - accuracy: 0.9502 - val_loss: 0.2869 - val_accuracy: 0.9077\n"
     ]
    },
    {
     "data": {
      "text/plain": [
       "<keras.src.callbacks.History at 0x15fa31e40>"
      ]
     },
     "execution_count": 7,
     "metadata": {},
     "output_type": "execute_result"
    }
   ],
   "source": [
    "sparsity_clustered_model.compile(optimizer='adam',loss=tf.keras.losses.CategoricalCrossentropy(from_logits=True),metrics=['accuracy'])\n",
    "\n",
    "\n",
    "sparsity_clustered_model.fit(X_train, y_train, batch_size=128,epochs=3, validation_split=0.1)"
   ]
  },
  {
   "cell_type": "code",
   "execution_count": 8,
   "id": "1217acf6",
   "metadata": {},
   "outputs": [],
   "source": [
    "stripped_sparsity_clustered_model = tfmot.clustering.keras.strip_clustering(sparsity_clustered_model)"
   ]
  },
  {
   "cell_type": "code",
   "execution_count": 13,
   "id": "84368492",
   "metadata": {},
   "outputs": [
    {
     "name": "stdout",
     "output_type": "stream",
     "text": [
      "INFO:tensorflow:Assets written to: /var/folders/bs/x0lj933d1hv0py0d4w2ypdp40000gn/T/tmpjz8umzix/assets\n"
     ]
    },
    {
     "name": "stderr",
     "output_type": "stream",
     "text": [
      "INFO:tensorflow:Assets written to: /var/folders/bs/x0lj933d1hv0py0d4w2ypdp40000gn/T/tmpjz8umzix/assets\n"
     ]
    },
    {
     "name": "stdout",
     "output_type": "stream",
     "text": [
      "✅ Model saved at: /Users/oscarpatrikminj/Documents/IITR/FMNIST/tflite_models/model_sparsity_clustered_qunat.tflite\n"
     ]
    },
    {
     "name": "stderr",
     "output_type": "stream",
     "text": [
      "2025-06-05 19:07:43.286638: W tensorflow/compiler/mlir/lite/python/tf_tfl_flatbuffer_helpers.cc:364] Ignored output_format.\n",
      "2025-06-05 19:07:43.286659: W tensorflow/compiler/mlir/lite/python/tf_tfl_flatbuffer_helpers.cc:367] Ignored drop_control_dependency.\n",
      "2025-06-05 19:07:43.286856: I tensorflow/cc/saved_model/reader.cc:45] Reading SavedModel from: /var/folders/bs/x0lj933d1hv0py0d4w2ypdp40000gn/T/tmpjz8umzix\n",
      "2025-06-05 19:07:43.287710: I tensorflow/cc/saved_model/reader.cc:91] Reading meta graph with tags { serve }\n",
      "2025-06-05 19:07:43.287717: I tensorflow/cc/saved_model/reader.cc:132] Reading SavedModel debug info (if present) from: /var/folders/bs/x0lj933d1hv0py0d4w2ypdp40000gn/T/tmpjz8umzix\n",
      "2025-06-05 19:07:43.290222: I tensorflow/cc/saved_model/loader.cc:231] Restoring SavedModel bundle.\n",
      "2025-06-05 19:07:43.311144: I tensorflow/cc/saved_model/loader.cc:215] Running initialization op on SavedModel bundle at path: /var/folders/bs/x0lj933d1hv0py0d4w2ypdp40000gn/T/tmpjz8umzix\n",
      "2025-06-05 19:07:43.319403: I tensorflow/cc/saved_model/loader.cc:314] SavedModel load for tags { serve }; Status: success: OK. Took 32550 microseconds.\n"
     ]
    }
   ],
   "source": [
    "from pathlib import Path\n",
    "import tensorflow as tf\n",
    "\n",
    "# Convert the model\n",
    "converter = tf.lite.TFLiteConverter.from_keras_model(stripped_sparsity_clustered_model)\n",
    "converter.optimizations = [tf.lite.Optimize.DEFAULT]\n",
    "sparsity_clustered_quant_model = converter.convert()\n",
    "\n",
    "# 📂 Save the model to your local directory\n",
    "tflite_models_dir = Path('/Users/oscarpatrikminj/Documents/IITR/FMNIST/tflite_models')\n",
    "tflite_models_dir.mkdir(exist_ok=True, parents=True)\n",
    "\n",
    "# 📄 Save the TFLite file\n",
    "tflite_model_file = tflite_models_dir / 'model_sparsity_clustered_qunat.tflite'\n",
    "tflite_model_file.write_bytes(sparsity_clustered_quant_model)\n",
    "\n",
    "print(f\"✅ Model saved at: {tflite_model_file}\")\n"
   ]
  },
  {
   "cell_type": "code",
   "execution_count": 15,
   "id": "a5da358f",
   "metadata": {},
   "outputs": [
    {
     "name": "stdout",
     "output_type": "stream",
     "text": [
      " Accuracy: 90.20%\n",
      " Avg inference time per image: 0.08 ms\n",
      " Uncompressed model size: 184.25 KB\n",
      " Zipped model size: 58.66 KB\n"
     ]
    }
   ],
   "source": [
    "import numpy as np\n",
    "import tensorflow as tf\n",
    "import time\n",
    "import os\n",
    "import zipfile\n",
    "from pathlib import Path\n",
    "\n",
    "# Load model\n",
    "tflite_model_file = 'tflite_models/model_sparsity_clustered_qunat.tflite'\n",
    "interpreter = tf.lite.Interpreter(model_path=tflite_model_file)\n",
    "interpreter.allocate_tensors()\n",
    "\n",
    "input_index = interpreter.get_input_details()[0]['index']\n",
    "output_index = interpreter.get_output_details()[0]['index']\n",
    "\n",
    "# Prepare test data\n",
    "from tensorflow.keras.datasets import fashion_mnist\n",
    "from tensorflow.keras.utils import to_categorical\n",
    "\n",
    "(_, _), (X_test, y_test) = fashion_mnist.load_data()\n",
    "X_test = X_test.astype('float32') / 255.0\n",
    "X_test = np.expand_dims(X_test, -1)\n",
    "y_test = to_categorical(y_test, num_classes=10)\n",
    "\n",
    "# Inference and accuracy calculation\n",
    "pred_list = []\n",
    "start_time = time.time()\n",
    "for images in X_test:\n",
    "    input_data = np.array(images, dtype=np.float32).reshape(1, 28, 28, 1)\n",
    "    interpreter.set_tensor(input_index, input_data)\n",
    "    interpreter.invoke()\n",
    "    prediction = interpreter.get_tensor(output_index)\n",
    "    prediction = np.argmax(prediction)\n",
    "    pred_list.append(prediction)\n",
    "end_time = time.time()\n",
    "\n",
    "# Accuracy\n",
    "accurate_count = sum([pred_list[i] == np.argmax(y_test[i]) for i in range(len(pred_list))])\n",
    "accuracy = accurate_count * 1.0 / len(pred_list)\n",
    "avg_time_per_sample = (end_time - start_time) / len(pred_list)\n",
    "\n",
    "print(f\" Accuracy: {accuracy * 100:.2f}%\")\n",
    "print(f\" Avg inference time per image: {avg_time_per_sample * 1000:.2f} ms\")\n",
    "\n",
    "# File size\n",
    "model_size_kb = os.path.getsize(tflite_model_file) / 1024\n",
    "print(f\" Uncompressed model size: {model_size_kb:.2f} KB\")\n",
    "\n",
    "# Compressed (ZIP) size\n",
    "def get_gzipped_model(path):\n",
    "    zip_path = Path(path).with_suffix('.zip')\n",
    "    with zipfile.ZipFile(zip_path, 'w', compression=zipfile.ZIP_DEFLATED) as f:\n",
    "        f.write(path, arcname=Path(path).name)\n",
    "    return os.path.getsize(zip_path)\n",
    "\n",
    "compressed_size_kb = get_gzipped_model(tflite_model_file) / 1024\n",
    "print(f\" Zipped model size: {compressed_size_kb:.2f} KB\")\n"
   ]
  }
 ],
 "metadata": {
  "kernelspec": {
   "display_name": "venv",
   "language": "python",
   "name": "python3"
  },
  "language_info": {
   "codemirror_mode": {
    "name": "ipython",
    "version": 3
   },
   "file_extension": ".py",
   "mimetype": "text/x-python",
   "name": "python",
   "nbconvert_exporter": "python",
   "pygments_lexer": "ipython3",
   "version": "3.10.13"
  }
 },
 "nbformat": 4,
 "nbformat_minor": 5
}
